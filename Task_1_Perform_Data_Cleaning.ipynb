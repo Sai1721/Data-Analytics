{
  "nbformat": 4,
  "nbformat_minor": 0,
  "metadata": {
    "colab": {
      "provenance": [],
      "authorship_tag": "ABX9TyMBGPfHC4reCsy5YBx9ka2d",
      "include_colab_link": true
    },
    "kernelspec": {
      "name": "python3",
      "display_name": "Python 3"
    },
    "language_info": {
      "name": "python"
    }
  },
  "cells": [
    {
      "cell_type": "markdown",
      "metadata": {
        "id": "view-in-github",
        "colab_type": "text"
      },
      "source": [
        "<a href=\"https://colab.research.google.com/github/Sai1721/Data-Analytics/blob/main/Task_1_Perform_Data_Cleaning.ipynb\" target=\"_parent\"><img src=\"https://colab.research.google.com/assets/colab-badge.svg\" alt=\"Open In Colab\"/></a>"
      ]
    },
    {
      "cell_type": "code",
      "source": [
        "# Import necessary libraries\n",
        "import pandas as pd\n",
        "import numpy as np\n",
        "import matplotlib.pyplot as plt"
      ],
      "metadata": {
        "id": "Rvaywh0qNq52"
      },
      "execution_count": 1,
      "outputs": []
    },
    {
      "cell_type": "code",
      "source": [
        "# Load the dataset\n",
        "file_path = \"/content/gender_submission.csv\"  # Update with the actual file path\n",
        "df = pd.read_csv(file_path)\n"
      ],
      "metadata": {
        "id": "13lzvfPxOBx0"
      },
      "execution_count": 2,
      "outputs": []
    },
    {
      "cell_type": "code",
      "source": [
        "# Display the first few rows of the dataset\n",
        "print(\"Original Dataset:\")\n",
        "print(df.head())"
      ],
      "metadata": {
        "colab": {
          "base_uri": "https://localhost:8080/"
        },
        "id": "hZOFPhHcOGi1",
        "outputId": "206db643-3ec0-4eed-f932-69eecd3d04b6"
      },
      "execution_count": 3,
      "outputs": [
        {
          "output_type": "stream",
          "name": "stdout",
          "text": [
            "Original Dataset:\n",
            "   PassengerId  Survived\n",
            "0          892         0\n",
            "1          893         1\n",
            "2          894         0\n",
            "3          895         0\n",
            "4          896         1\n"
          ]
        }
      ]
    },
    {
      "cell_type": "code",
      "source": [
        "# Check for null values\n",
        "print(\"\\nNull Values:\")\n",
        "print(df.isnull().sum())\n"
      ],
      "metadata": {
        "colab": {
          "base_uri": "https://localhost:8080/"
        },
        "id": "ia5L4BhQOLj5",
        "outputId": "c88dcdff-3d8e-42f0-8d86-76e72afeafd3"
      },
      "execution_count": 4,
      "outputs": [
        {
          "output_type": "stream",
          "name": "stdout",
          "text": [
            "\n",
            "Null Values:\n",
            "PassengerId    0\n",
            "Survived       0\n",
            "dtype: int64\n"
          ]
        }
      ]
    },
    {
      "cell_type": "code",
      "source": [
        "# Task 1.1: Handling Null Values\n",
        "\n",
        "# Drop rows with null values\n",
        "df_cleaned = df.dropna()\n",
        "\n",
        "# Display the first few rows of the cleaned dataset\n",
        "print(\"\\nCleaned Dataset (Null Values Removed):\")\n",
        "print(df_cleaned.head())"
      ],
      "metadata": {
        "colab": {
          "base_uri": "https://localhost:8080/"
        },
        "id": "g2CDmIulOSEZ",
        "outputId": "33547ebb-dbdc-4a5a-eab5-9e83eab3ddc4"
      },
      "execution_count": 5,
      "outputs": [
        {
          "output_type": "stream",
          "name": "stdout",
          "text": [
            "\n",
            "Cleaned Dataset (Null Values Removed):\n",
            "   PassengerId  Survived\n",
            "0          892         0\n",
            "1          893         1\n",
            "2          894         0\n",
            "3          895         0\n",
            "4          896         1\n"
          ]
        }
      ]
    },
    {
      "cell_type": "code",
      "source": [
        "# Task 1.2: Handling Outliers\n",
        "\n",
        "# Task-specific: Identify and handle outliers based on your dataset and features\n",
        "# For example, using z-score for numerical columns\n",
        "z_scores = np.abs((df_cleaned - df_cleaned.mean()) / df_cleaned.std())\n",
        "df_no_outliers = df_cleaned[(z_scores < 3).all(axis=1)]\n",
        "\n",
        "# Display the first few rows of the dataset without outliers\n",
        "print(\"\\nDataset without Outliers:\")\n",
        "print(df_no_outliers.head())"
      ],
      "metadata": {
        "colab": {
          "base_uri": "https://localhost:8080/"
        },
        "id": "6aq80PFTOYez",
        "outputId": "580b0aa7-f141-4a98-81c3-e596e997a769"
      },
      "execution_count": 6,
      "outputs": [
        {
          "output_type": "stream",
          "name": "stdout",
          "text": [
            "\n",
            "Dataset without Outliers:\n",
            "   PassengerId  Survived\n",
            "0          892         0\n",
            "1          893         1\n",
            "2          894         0\n",
            "3          895         0\n",
            "4          896         1\n"
          ]
        }
      ]
    },
    {
      "cell_type": "code",
      "execution_count": 9,
      "metadata": {
        "colab": {
          "base_uri": "https://localhost:8080/",
          "height": 463
        },
        "id": "jTySSBe1LOkK",
        "outputId": "09868300-e497-4c3f-cae6-650b1f9a18a5"
      },
      "outputs": [
        {
          "output_type": "stream",
          "name": "stderr",
          "text": [
            "<ipython-input-9-0e8546d26c2d>:8: UserWarning: FixedFormatter should only be used together with FixedLocator\n",
            "  axs[0].set_xticklabels(['Your Numeric Column'])\n",
            "<ipython-input-9-0e8546d26c2d>:12: UserWarning: FixedFormatter should only be used together with FixedLocator\n",
            "  axs[1].set_xticklabels(['Your Numeric Column'])\n"
          ]
        },
        {
          "output_type": "display_data",
          "data": {
            "text/plain": [
              "<Figure size 1200x500 with 2 Axes>"
            ],
            "image/png": "[encoded data removed]"
          },
          "metadata": {}
        }
      ],
      "source": [
        "# Task 1.3: Data Visualization\n",
        "\n",
        "# Visualize data distribution before and after handling outliers\n",
        "fig, axs = plt.subplots(1, 2, figsize=(12, 5))\n",
        "\n",
        "# Before handling outliers\n",
        "axs[0].set_title('Before Outlier Handling')\n",
        "axs[0].set_xticklabels(['Your Numeric Column'])\n",
        "\n",
        "# After handling outliers\n",
        "axs[1].set_title('After Outlier Handling')\n",
        "axs[1].set_xticklabels(['Your Numeric Column'])\n",
        "\n",
        "plt.show()\n"
      ]
    }
  ]
}